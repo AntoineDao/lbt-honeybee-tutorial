{
 "cells": [
  {
   "cell_type": "code",
   "execution_count": 1,
   "metadata": {},
   "outputs": [],
   "source": [
    "try:\n",
    "    from urllib.parse import urlparse, urlencode\n",
    "    from urllib.request import urlopen, Request\n",
    "    from urllib.error import HTTPError\n",
    "except ImportError:\n",
    "    from urlparse import urlparse\n",
    "    from urllib import urlencode\n",
    "    from urllib2 import urlopen, Request, HTTPError"
   ]
  },
  {
   "cell_type": "code",
   "execution_count": 2,
   "metadata": {},
   "outputs": [],
   "source": [
    "gbxml_address = 'https://rawgit.com/ladybug-tools/spider/master/gbxml-sample-files/bristol-clifton-downs-fixed.xml'"
   ]
  },
  {
   "cell_type": "code",
   "execution_count": 3,
   "metadata": {},
   "outputs": [],
   "source": [
    "request = urlopen(gbxml_address)\n",
    "\n",
    "gbxml_string = request.read()\n",
    "\n",
    "with open('bristol-clifton-downs-fixed.xml', 'w') as f:\n",
    "    f.write(gbxml_string)"
   ]
  },
  {
   "cell_type": "code",
   "execution_count": 4,
   "metadata": {},
   "outputs": [],
   "source": [
    "from xml.dom import minidom\n",
    "\n",
    "gbxml = minidom.parseString(gbxml_string)\n",
    "gbxml_spaces = gbxml.getElementsByTagName('Space')\n",
    "gbxml_surfaces = gbxml.getElementsByTagName('Surface')\n"
   ]
  },
  {
   "cell_type": "markdown",
   "metadata": {},
   "source": [
    "## Parse Surfaces into HBSurfaces"
   ]
  },
  {
   "cell_type": "code",
   "execution_count": 5,
   "metadata": {},
   "outputs": [
    {
     "name": "stdout",
     "output_type": "stream",
     "text": [
      "Path to OpenStudio is set to: C:/Program Files/OpenStudio 1.14.0\n",
      "Path to radiance is set to: c:/radiance\n",
      "Path to perl is set to: C:/Program Files/OpenStudio 1.14.0\\strawberry-perl-5.16.2.1-32bit-portable-reduced\n"
     ]
    },
    {
     "data": {
      "text/plain": [
       "517"
      ]
     },
     "execution_count": 5,
     "metadata": {},
     "output_type": "execute_result"
    }
   ],
   "source": [
    "from lib.gbxml_surface_parser import get_hb_surface\n",
    "\n",
    "hb_surfaces = []\n",
    "\n",
    "# Check space 'conditionType' to be 'HeatedAndCooled', if 'unconditioned' then do not use.\n",
    "\n",
    "for surface in gbxml_surfaces:\n",
    "    hb_surface = get_hb_surface(surface)\n",
    "    if hb_surface is not None:\n",
    "        hb_surfaces.append(hb_surface)\n",
    "    \n",
    "len(hb_surfaces)"
   ]
  },
  {
   "cell_type": "code",
   "execution_count": 7,
   "metadata": {},
   "outputs": [],
   "source": [
    "# fenestrated = []\n",
    "\n",
    "# for surface in hb_surfaces:\n",
    "# #     print(len(surface.children_surfaces))\n",
    "#     if hb_surface.has_child_surfaces:\n",
    "#         print(len(surface.children_surfaces))\n",
    "\n",
    "# #         fenestrated.append(hb_surface)\n",
    "        \n",
    "# # fenestrated[0].children_surfaces\n",
    "\n",
    "# fenestrated"
   ]
  },
  {
   "cell_type": "code",
   "execution_count": 9,
   "metadata": {},
   "outputs": [
    {
     "data": {
      "text/plain": [
       "{'name': 'Basic_Wall__SIM_INT_SLD_Core__883750_',\n",
       " 'surface_material': {'b_reflectance': 0.5,\n",
       "  'g_reflectance': 0.5,\n",
       "  'modifier': 'void',\n",
       "  'name': 'generic_wall',\n",
       "  'r_reflectance': 0.5,\n",
       "  'roughness': 0.0,\n",
       "  'specularity': 0.0,\n",
       "  'type': 'plastic'},\n",
       " 'surface_type': 0.0,\n",
       " 'vertices': [[(497.6739, 1030.624, 19.25),\n",
       "   (497.7677, 1032.187, 19.25),\n",
       "   (497.7677, 1032.187, 23.15),\n",
       "   (497.6739, 1030.624, 23.15)]]}"
      ]
     },
     "execution_count": 9,
     "metadata": {},
     "output_type": "execute_result"
    }
   ],
   "source": [
    "hb_surfaces[0].to_json()"
   ]
  },
  {
   "cell_type": "markdown",
   "metadata": {},
   "source": [
    "## Parse Zones into Analysis Grids"
   ]
  },
  {
   "cell_type": "code",
   "execution_count": 10,
   "metadata": {},
   "outputs": [
    {
     "data": {
      "text/plain": [
       "87"
      ]
     },
     "execution_count": 10,
     "metadata": {},
     "output_type": "execute_result"
    }
   ],
   "source": [
    "from lib.gbxml_surface_parser import get_points, get_clean_name\n",
    "from lib.gbxml_room_grid_parser import grid_from_floor, points_in_floor_polygon\n",
    "from honeybee.radiance.analysisgrid import AnalysisGrid\n",
    "\n",
    "analysis_grids = []\n",
    "\n",
    "for space in gbxml_spaces:\n",
    "    space_name_raw = space.getElementsByTagName('Name')[0].childNodes[0].nodeValue\n",
    "    name = get_clean_name(space_name_raw)\n",
    "    floor_points = get_points(space)\n",
    "    grid = grid_from_floor(floor_points)\n",
    "    \n",
    "    analysis_grid = AnalysisGrid.from_points_and_vectors(grid, name=name)\n",
    "\n",
    "    analysis_grids.append(analysis_grid)\n",
    "\n",
    "len(analysis_grids)"
   ]
  },
  {
   "cell_type": "markdown",
   "metadata": {},
   "source": [
    "### IEQc: 8.1 Daylight and Views – Daylight\n",
    "Demonstrate through computer simulation that the applicable spaces achieve daylight\n",
    "illuminance levels of a minimum of 10 footcandles (fc) (110 Lux) and a maximum of 500 fc\n",
    "(5,400 Lux) in a clear sky condition on September 21 at 9 a.m. and 3 p.m.; areas\n",
    "Provide glare control devices to avoid high-contrast situations that could impede visual\n",
    "tasks. However, designs that incorporate view-preserving automated shades for glare\n",
    "control may demonstrate compliance for only the minimum 10 fc (110 lux) illuminance level. "
   ]
  },
  {
   "cell_type": "code",
   "execution_count": 11,
   "metadata": {},
   "outputs": [],
   "source": [
    "from honeybee.radiance.recipe.pointintime.gridbased import GridBased as PiTGridBased\n",
    "from honeybee.radiance.sky.climatebased import ClimateBased as ClimateBasedSky\n",
    "from ladybug.wea import Wea\n",
    "\n",
    "epw_file_path = 'data/GBR_Birmingham.035340_IWEC.epw'\n",
    "\n",
    "wea = Wea.from_epw_file(epw_file_path)\n",
    "\n",
    "sky_1 = ClimateBasedSky.from_wea(wea=wea, month=9, day=21, hour=9, north=0)\n",
    "\n",
    "sky_2 = ClimateBasedSky.from_wea(wea=wea, month=9, day=21, hour=15, north=0)"
   ]
  },
  {
   "cell_type": "code",
   "execution_count": 18,
   "metadata": {},
   "outputs": [
    {
     "name": "stdout",
     "output_type": "stream",
     "text": [
      "Found 517 opaque surfaces.\n",
      "Found 268 fenestration surfaces.\n",
      "Found 0 window-groups.\n",
      "Writing recipe contents to: C:\\Users\\Antoine\\Documents\\projects\\honeybee tutorials\\recipes\\test\\daylightfactor\n"
     ]
    },
    {
     "data": {
      "text/plain": [
       "True"
      ]
     },
     "execution_count": 18,
     "metadata": {},
     "output_type": "execute_result"
    }
   ],
   "source": [
    "from honeybee.radiance.recipe.daylightfactor.gridbased import GridBased as DFGridBased\n",
    "import os\n",
    "\n",
    "df_recipe = DFGridBased(analysis_grids=analysis_grids, hb_objects=hb_surfaces)\n",
    "\n",
    "\n",
    "target_folder = os.path.join(os.getcwd(), 'recipes')\n",
    "\n",
    "command_path = df_recipe.write(target_folder, 'test')\n",
    "\n",
    "df_recipe.run(command_path)"
   ]
  },
  {
   "cell_type": "code",
   "execution_count": 22,
   "metadata": {},
   "outputs": [
    {
     "name": "stdout",
     "output_type": "stream",
     "text": [
      "Unloading the current values from the analysis grids.\n"
     ]
    },
    {
     "data": {
      "text/plain": [
       "{'analysis_points': [{'direction': (0.0, 0.0, 1.0),\n",
       "   'location': (497.2521, 1031.151, 20.0),\n",
       "   'values': [[defaultdict(<function honeybee.radiance.analysispoint.double>,\n",
       "                 {379440: [0.0, None]})]]},\n",
       "  {'direction': (0.0, 0.0, 1.0),\n",
       "   'location': (497.2521, 1031.651, 20.0),\n",
       "   'values': [[defaultdict(<function honeybee.radiance.analysispoint.double>,\n",
       "                 {379440: [0.0, None]})]]},\n",
       "  {'direction': (0.0, 0.0, 1.0),\n",
       "   'location': (497.2521, 1032.151, 20.0),\n",
       "   'values': [[defaultdict(<function honeybee.radiance.analysispoint.double>,\n",
       "                 {379440: [0.0, None]})]]}],\n",
       " 'name': u'00_100_Riser_2'}"
      ]
     },
     "execution_count": 22,
     "metadata": {},
     "output_type": "execute_result"
    }
   ],
   "source": [
    "analysis_grids = df_recipe.results()\n",
    "\n",
    "analysis_grids[0].to_json()"
   ]
  },
  {
   "cell_type": "code",
   "execution_count": 14,
   "metadata": {},
   "outputs": [
    {
     "name": "stdout",
     "output_type": "stream",
     "text": [
      "Found 517 opaque surfaces.\n",
      "Found 268 fenestration surfaces.\n",
      "Found 0 window-groups.\n",
      "Found 517 opaque surfaces.\n",
      "Found 268 fenestration surfaces.\n",
      "Found 0 window-groups.\n"
     ]
    }
   ],
   "source": [
    "analysis_grid = analysis_grids[10]\n",
    "\n",
    "recipe_1 = PiTGridBased(sky=sky_1, analysis_grids=[analysis_grid], hb_objects=hb_surfaces)\n",
    "\n",
    "recipe_2 = PiTGridBased(sky=sky_2, analysis_grids=[analysis_grid], hb_objects=hb_surfaces)\n"
   ]
  },
  {
   "cell_type": "code",
   "execution_count": 15,
   "metadata": {},
   "outputs": [
    {
     "name": "stdout",
     "output_type": "stream",
     "text": [
      "Writing recipe contents to: C:\\Users\\Antoine\\Documents\\projects\\honeybee tutorials\\recipes\\test\\gridbased\n",
      "Radiance path C:\\Program Files\\OpenStudio 1.14.0\\share\\openStudio\\Radiance\\bin has a whitespace. Some of the radiance commands may fail.\n",
      "We strongly suggest you to install radiance under a path with no withspace (e.g. c:/radiance)\n"
     ]
    },
    {
     "data": {
      "text/plain": [
       "True"
      ]
     },
     "execution_count": 15,
     "metadata": {},
     "output_type": "execute_result"
    }
   ],
   "source": [
    "import os\n",
    "\n",
    "target_folder = os.path.join(os.getcwd(), 'recipes')\n",
    "\n",
    "command_path = recipe_1.write(target_folder, 'test')\n",
    "recipe_1.run(command_path)"
   ]
  },
  {
   "cell_type": "code",
   "execution_count": null,
   "metadata": {},
   "outputs": [],
   "source": []
  }
 ],
 "metadata": {
  "kernelspec": {
   "display_name": "Python 2",
   "language": "python",
   "name": "python2"
  },
  "language_info": {
   "codemirror_mode": {
    "name": "ipython",
    "version": 2
   },
   "file_extension": ".py",
   "mimetype": "text/x-python",
   "name": "python",
   "nbconvert_exporter": "python",
   "pygments_lexer": "ipython2",
   "version": "2.7.13"
  }
 },
 "nbformat": 4,
 "nbformat_minor": 2
}
