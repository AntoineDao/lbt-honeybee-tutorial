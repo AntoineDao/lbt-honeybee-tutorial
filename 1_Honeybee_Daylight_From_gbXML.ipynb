{
 "cells": [
  {
   "cell_type": "markdown",
   "metadata": {},
   "source": [
    "# Honeybee Daylight From gbXML\n",
    "\n",
    "Honeybee is a python building energy and daylighting simulation library mainly used through the Rhino/Grasshopper GUI. The core components and functionality of this library however do not require any specific external geometry package to work. The series of tutorials presented in this repository will aim to demonstrate that a series of complex and useful simulations can be (and maybe even should be) carried out outwith of the Rhino/Grasshopper ecosystem to facilitate reproductibility, version control, speed and scale.\n",
    "\n",
    "Before any simulation is done however we will first need a model. A common file format for Environmental Buidling Simulations is gbXML, which is why we will be using it as the basis of our Honeybee model generation. In this tutorial we will carry out the following tasks:\n",
    "\n",
    "1. Download and parse a gbXML file\n",
    "2. Extract all surfaces/windows from the parsed gbXML\n",
    "3. Extract all zones and generate simulation grids\n",
    "4. Save grids and surfaces in JSON format for later use"
   ]
  },
  {
   "cell_type": "markdown",
   "metadata": {},
   "source": [
    "## 1. Getting a gbXML\n",
    "The ladybug tools project has introduced a gbXML rendering bug called [`spider`](https://www.ladybug.tools/spider/#README.md) which helps visualise and debug such files. As such it seems fitting to use on the main examples from this project and apply it to this tutorial.\n",
    "\n",
    "We will be using the [`bristol-clifton-downs` example file](https://www.ladybug.tools/spider/gbxml-viewer/r12/gv-app/gv-app.html#https://rawgit.com/ladybug-tools/spider/master/gbxml-sample-files/bristol-clifton-downs-fixed.xml). \n",
    "\n",
    "We download and read the file from the url indicated in the code snippet below. We also write the file to our local folder to inspect elemets of it in our code editor."
   ]
  },
  {
   "cell_type": "code",
   "execution_count": 1,
   "metadata": {},
   "outputs": [],
   "source": [
    "from urllib2 import urlopen\n",
    "\n",
    "gbxml_address = 'https://rawgit.com/ladybug-tools/spider/master/gbxml-sample-files/bristol-clifton-downs-fixed.xml'\n",
    "\n",
    "request = urlopen(gbxml_address)\n",
    "\n",
    "gbxml_string = request.read()\n",
    "\n",
    "with open('data/bristol-clifton-downs-fixed.xml', 'w') as f:\n",
    "    f.write(gbxml_string)"
   ]
  },
  {
   "cell_type": "markdown",
   "metadata": {},
   "source": [
    "Next we use the [`minidom`](https://docs.python.org/2/library/xml.dom.minidom.html) package to parse the gbXML file and split it into two main objects:\n",
    "* `gbxml_surfaces`: contains all the surfaces and subsurfaces in the gbXML file. We will retrieve geometry, type, nam and possibly material information from this object.\n",
    "* `gbxml_spaces`: contains all the space information in the gbXML. We are mostly interested in the name, space polygon and occupancy information."
   ]
  },
  {
   "cell_type": "code",
   "execution_count": 2,
   "metadata": {},
   "outputs": [],
   "source": [
    "from xml.dom import minidom\n",
    "\n",
    "gbxml = minidom.parseString(gbxml_string)\n",
    "gbxml_surfaces = gbxml.getElementsByTagName('Surface')\n",
    "gbxml_spaces = gbxml.getElementsByTagName('Space')\n"
   ]
  },
  {
   "cell_type": "markdown",
   "metadata": {},
   "source": [
    "## 2. gbXML to Honeybee Surfaces\n",
    "\n",
    "The `gbxml_surfaces` object will be parsed in order to produce `Honeybee Surface` objects. These objects will contain the geometry, name, type and material of each surface in the original gbXML. To understand how we will parse these objects lets first look at how a surface is represented in the gbXML file. This is shown in the cell below:\n"
   ]
  },
  {
   "cell_type": "markdown",
   "metadata": {},
   "source": [
    "```xml\n",
    "<Surface surfaceType=\"ExteriorWall\" exposedToSun=\"true\" id=\"aim6050\">\n",
    "  <AdjacentSpaceId spaceIdRef=\"aim0682\"/>\n",
    "  <RectangularGeometry id=\"aim6051\">\n",
    "    <Azimuth>93.4364318847656</Azimuth>\n",
    "    <CartesianPoint>\n",
    "      <Coordinate>500.1</Coordinate>\n",
    "      <Coordinate>1022.647</Coordinate>\n",
    "      <Coordinate>19.25</Coordinate>\n",
    "    </CartesianPoint>\n",
    "    <Tilt>90</Tilt>\n",
    "    <Width>3.86800003051758</Width>\n",
    "    <Height>3.90000009536743</Height>\n",
    "  </RectangularGeometry>\n",
    "  <PlanarGeometry>\n",
    "    <PolyLoop>\n",
    "      <CartesianPoint>\n",
    "        <Coordinate>500.1</Coordinate>\n",
    "        <Coordinate>1022.647</Coordinate>\n",
    "        <Coordinate>19.25</Coordinate>\n",
    "      </CartesianPoint>\n",
    "      <CartesianPoint>\n",
    "        <Coordinate>500.3318</Coordinate>\n",
    "        <Coordinate>1026.508</Coordinate>\n",
    "        <Coordinate>19.25</Coordinate>\n",
    "      </CartesianPoint>\n",
    "      <CartesianPoint>\n",
    "        <Coordinate>500.3318</Coordinate>\n",
    "        <Coordinate>1026.508</Coordinate>\n",
    "        <Coordinate>23.15</Coordinate>\n",
    "      </CartesianPoint>\n",
    "      <CartesianPoint>\n",
    "        <Coordinate>500.1</Coordinate>\n",
    "        <Coordinate>1022.647</Coordinate>\n",
    "        <Coordinate>23.15</Coordinate>\n",
    "      </CartesianPoint>\n",
    "    </PolyLoop>\n",
    "  </PlanarGeometry>\n",
    "  <Opening openingType=\"OperableWindow\" id=\"aim6071\">\n",
    "    <RectangularGeometry id=\"aim6072\">\n",
    "      <CartesianPoint>\n",
    "        <Coordinate>0</Coordinate>\n",
    "        <Coordinate>0.05</Coordinate>\n",
    "        <Coordinate>0</Coordinate>\n",
    "      </CartesianPoint>\n",
    "      <Width>1.5780000015062</Width>\n",
    "      <Height>3</Height>\n",
    "    </RectangularGeometry>\n",
    "    <PlanarGeometry>\n",
    "      <PolyLoop>\n",
    "        <CartesianPoint>\n",
    "          <Coordinate>500.1</Coordinate>\n",
    "          <Coordinate>1022.647</Coordinate>\n",
    "          <Coordinate>19.3</Coordinate>\n",
    "        </CartesianPoint>\n",
    "        <CartesianPoint>\n",
    "          <Coordinate>500.1946</Coordinate>\n",
    "          <Coordinate>1024.222</Coordinate>\n",
    "          <Coordinate>19.3</Coordinate>\n",
    "        </CartesianPoint>\n",
    "        <CartesianPoint>\n",
    "          <Coordinate>500.1946</Coordinate>\n",
    "          <Coordinate>1024.222</Coordinate>\n",
    "          <Coordinate>22.3</Coordinate>\n",
    "        </CartesianPoint>\n",
    "        <CartesianPoint>\n",
    "          <Coordinate>500.1</Coordinate>\n",
    "          <Coordinate>1022.647</Coordinate>\n",
    "          <Coordinate>22.3</Coordinate>\n",
    "        </CartesianPoint>\n",
    "      </PolyLoop>\n",
    "    </PlanarGeometry>\n",
    "    <CADObjectId>WinInst: SIM_EXT_GLZ [898655]</CADObjectId>\n",
    "    <Name>N-00_109-E-W-52-W-2</Name>\n",
    "  </Opening>\n",
    "  <CADObjectId>Basic Wall: SIM_EXT_SLD [882893]</CADObjectId>\n",
    "  <Name>N-00_109-E-W-52</Name>\n",
    "</Surface>\n",
    "```"
   ]
  },
  {
   "cell_type": "markdown",
   "metadata": {},
   "source": [
    "Quite the mouthful right?! Yeah XML is not the most human friendly file format. What you will notice however is that:\n",
    "* The surface type is contained in the first element of the surface xml object under the name `surfaceType`\n",
    "* A list of points composing the planar surface geometry is available under `PlanarGeometry` -> `PolyLoop`\n",
    "* The name of the surface can be found at the very bottom under `Name`\n",
    "* In this case the `CADObjectId` tag seems to contain information about the specific construction type used.\n",
    "* Openings such as windows or doors belonging to the surface are contained under `Opening`. These objects in turn contain surface types, names and geometry information\n",
    "\n",
    "A parser to retrieve `name`, `surface_type` and `surface_points` has been written and is saved in `lib/gbxml_surface_parser` for brevity's sake. Feel free to take a peek at the functions and how they work if you are so inclined.\n",
    "\n",
    "The code below demonstrates how this information is extracted from each `gbxml_surface` object and turned into a `honeybee_surface`:"
   ]
  },
  {
   "cell_type": "code",
   "execution_count": 3,
   "metadata": {},
   "outputs": [
    {
     "name": "stdout",
     "output_type": "stream",
     "text": [
      "Path to OpenStudio is set to: C:/Program Files/OpenStudio 1.14.0\n",
      "Path to radiance is set to: c:/radiance\n",
      "Path to perl is set to: C:/Program Files/OpenStudio 1.14.0\\strawberry-perl-5.16.2.1-32bit-portable-reduced\n",
      "442 Honeybee Surfaces parsed\n",
      "75 Context Surfaces parsed\n"
     ]
    }
   ],
   "source": [
    "from lib.gbxml_surface_parser import get_clean_name, get_surface_type, get_points, get_fenestration\n",
    "\n",
    "from honeybee.surfacetype import AirWall, Context\n",
    "from honeybee.hbsurface import HBSurface\n",
    "from honeybee.hbshadesurface import HBShadingSurface\n",
    "\n",
    "hb_surfaces = []\n",
    "hb_context_surfaces = []\n",
    "\n",
    "\n",
    "for surface in gbxml_surfaces:\n",
    "    # Get surface name\n",
    "    surface_name_raw = surface.getElementsByTagName('Name')[0].childNodes[0].nodeValue\n",
    "    surface_name = get_clean_name(surface_name_raw)\n",
    "    \n",
    "    # Get surface material information\n",
    "    material_name = surface.getElementsByTagName('CADObjectId')[0].childNodes[0].nodeValue\n",
    "\n",
    "    # Get surface type and return a compatible Honeybee Surface Type class\n",
    "    surface_type = get_surface_type(surface)\n",
    "    \n",
    "    # Get all the points in the Planar Geometry Polyloop and return them as a list of (x, y, z)\n",
    "    surface_points = get_points(surface)\n",
    "\n",
    "    # Ignore AirWalls => They are not important for daylighting\n",
    "    if isinstance(surface_type, AirWall):\n",
    "        pass\n",
    "\n",
    "    # Sometimes air walls are only indicated through materials...\n",
    "    elif '_AIR' in material_name:\n",
    "        pass\n",
    "    \n",
    "    # Any context surfaces are saved seperately to be added or removed depending on the use case\n",
    "    elif isinstance(surface_type, Context):\n",
    "        hb_surface = HBShadingSurface(name=surface_name,\n",
    "                                      sorted_points=surface_points,\n",
    "                                      is_name_set_by_user=True)\n",
    "\n",
    "        hb_context_surfaces.append(hb_surface)\n",
    "\n",
    "    # Finally we get to Honeybee Surfaces!\n",
    "    else:\n",
    "        hb_surface = HBSurface(name=surface_name,\n",
    "                               sorted_points=surface_points,\n",
    "                               surface_type=surface_type,\n",
    "                               is_name_set_by_user=True)\n",
    "\n",
    "        # This function does essentially the same task as the loop above but for glazing\n",
    "        fenestrations = get_fenestration(surface)\n",
    "        for fenestration in fenestrations:\n",
    "            hb_surface.add_fenestration_surface(fenestration)\n",
    "            \n",
    "        hb_surfaces.append(hb_surface)\n",
    "    \n",
    "print(\"{} Honeybee Surfaces parsed\".format(len(hb_surfaces)))\n",
    "print(\"{} Context Surfaces parsed\".format(len(hb_context_surfaces)))"
   ]
  },
  {
   "cell_type": "markdown",
   "metadata": {},
   "source": [
    "For convenience this section of code has been reduced to a single function which can be reused once the user knows what it does:"
   ]
  },
  {
   "cell_type": "code",
   "execution_count": 5,
   "metadata": {},
   "outputs": [
    {
     "name": "stdout",
     "output_type": "stream",
     "text": [
      "442 Honeybee Surfaces parsed\n",
      "75 Context Surfaces parsed\n"
     ]
    }
   ],
   "source": [
    "from lib.gbxml_surface_parser import get_hb_surfaces\n",
    "\n",
    "hb_surfaces, hb_context_surfaces = get_hb_surfaces(gbxml_surfaces)\n",
    "\n",
    "print(\"{} Honeybee Surfaces parsed\".format(len(hb_surfaces)))\n",
    "print(\"{} Context Surfaces parsed\".format(len(hb_context_surfaces)))"
   ]
  },
  {
   "cell_type": "markdown",
   "metadata": {},
   "source": [
    "## Parse Zones into Analysis Grids"
   ]
  },
  {
   "cell_type": "code",
   "execution_count": 10,
   "metadata": {},
   "outputs": [
    {
     "data": {
      "text/plain": [
       "87"
      ]
     },
     "execution_count": 10,
     "metadata": {},
     "output_type": "execute_result"
    }
   ],
   "source": [
    "from lib.gbxml_surface_parser import get_points, get_clean_name\n",
    "from lib.gbxml_room_grid_parser import grid_from_floor, points_in_floor_polygon\n",
    "from honeybee.radiance.analysisgrid import AnalysisGrid\n",
    "\n",
    "analysis_grids = []\n",
    "\n",
    "# Check space 'conditionType' to be 'HeatedAndCooled', if 'unconditioned' then do not use.\n",
    "\n",
    "for space in gbxml_spaces:\n",
    "    space_name_raw = space.getElementsByTagName('Name')[0].childNodes[0].nodeValue\n",
    "    name = get_clean_name(space_name_raw)\n",
    "    floor_points = get_points(space)\n",
    "    grid = grid_from_floor(floor_points)\n",
    "    \n",
    "    analysis_grid = AnalysisGrid.from_points_and_vectors(grid, name=name)\n",
    "\n",
    "    analysis_grids.append(analysis_grid)\n",
    "\n",
    "len(analysis_grids)"
   ]
  },
  {
   "cell_type": "markdown",
   "metadata": {},
   "source": [
    "### IEQc: 8.1 Daylight and Views – Daylight\n",
    "Demonstrate through computer simulation that the applicable spaces achieve daylight\n",
    "illuminance levels of a minimum of 10 footcandles (fc) (110 Lux) and a maximum of 500 fc\n",
    "(5,400 Lux) in a clear sky condition on September 21 at 9 a.m. and 3 p.m.; areas\n",
    "Provide glare control devices to avoid high-contrast situations that could impede visual\n",
    "tasks. However, designs that incorporate view-preserving automated shades for glare\n",
    "control may demonstrate compliance for only the minimum 10 fc (110 lux) illuminance level. "
   ]
  },
  {
   "cell_type": "code",
   "execution_count": 11,
   "metadata": {},
   "outputs": [],
   "source": [
    "from honeybee.radiance.recipe.pointintime.gridbased import GridBased as PiTGridBased\n",
    "from honeybee.radiance.sky.climatebased import ClimateBased as ClimateBasedSky\n",
    "from ladybug.wea import Wea\n",
    "\n",
    "epw_file_path = 'data/GBR_Birmingham.035340_IWEC.epw'\n",
    "\n",
    "wea = Wea.from_epw_file(epw_file_path)\n",
    "\n",
    "sky_1 = ClimateBasedSky.from_wea(wea=wea, month=9, day=21, hour=9, north=0)\n",
    "\n",
    "sky_2 = ClimateBasedSky.from_wea(wea=wea, month=9, day=21, hour=15, north=0)"
   ]
  },
  {
   "cell_type": "code",
   "execution_count": 12,
   "metadata": {},
   "outputs": [],
   "source": [
    "# from honeybee.radiance.recipe.daylightfactor.gridbased import GridBased as DFGridBased\n",
    "# import os\n",
    "\n",
    "# df_recipe = DFGridBased(analysis_grids=analysis_grids, hb_objects=hb_surfaces)\n",
    "\n",
    "\n",
    "# target_folder = os.path.join(os.getcwd(), 'recipes')\n",
    "\n",
    "# command_path = df_recipe.write(target_folder, 'test')\n",
    "\n",
    "# df_recipe.run(command_path)"
   ]
  },
  {
   "cell_type": "code",
   "execution_count": 13,
   "metadata": {},
   "outputs": [
    {
     "ename": "NameError",
     "evalue": "name 'df_recipe' is not defined",
     "output_type": "error",
     "traceback": [
      "\u001b[1;31m\u001b[0m",
      "\u001b[1;31mNameError\u001b[0mTraceback (most recent call last)",
      "\u001b[1;32m<ipython-input-13-3740a3595a74>\u001b[0m in \u001b[0;36m<module>\u001b[1;34m()\u001b[0m\n\u001b[1;32m----> 1\u001b[1;33m \u001b[0manalysis_grids\u001b[0m \u001b[1;33m=\u001b[0m \u001b[0mdf_recipe\u001b[0m\u001b[1;33m.\u001b[0m\u001b[0mresults\u001b[0m\u001b[1;33m(\u001b[0m\u001b[1;33m)\u001b[0m\u001b[1;33m\u001b[0m\u001b[0m\n\u001b[0m\u001b[0;32m      2\u001b[0m \u001b[1;33m\u001b[0m\u001b[0m\n\u001b[0;32m      3\u001b[0m \u001b[0manalysis_grids\u001b[0m\u001b[1;33m[\u001b[0m\u001b[1;36m0\u001b[0m\u001b[1;33m]\u001b[0m\u001b[1;33m.\u001b[0m\u001b[0mto_json\u001b[0m\u001b[1;33m(\u001b[0m\u001b[1;33m)\u001b[0m\u001b[1;33m\u001b[0m\u001b[0m\n",
      "\u001b[1;31mNameError\u001b[0m: name 'df_recipe' is not defined"
     ]
    }
   ],
   "source": [
    "analysis_grids = df_recipe.results()\n",
    "\n",
    "analysis_grids[0].to_json()"
   ]
  },
  {
   "cell_type": "code",
   "execution_count": 14,
   "metadata": {},
   "outputs": [
    {
     "name": "stdout",
     "output_type": "stream",
     "text": [
      "Found 517 opaque surfaces.\n",
      "Found 268 fenestration surfaces.\n",
      "Found 0 window-groups.\n",
      "Found 517 opaque surfaces.\n",
      "Found 268 fenestration surfaces.\n",
      "Found 0 window-groups.\n"
     ]
    }
   ],
   "source": [
    "analysis_grid = analysis_grids[10]\n",
    "\n",
    "recipe_1 = PiTGridBased(sky=sky_1, analysis_grids=[analysis_grid], hb_objects=hb_surfaces)\n",
    "\n",
    "recipe_2 = PiTGridBased(sky=sky_2, analysis_grids=[analysis_grid], hb_objects=hb_surfaces)\n"
   ]
  },
  {
   "cell_type": "code",
   "execution_count": 15,
   "metadata": {},
   "outputs": [
    {
     "name": "stdout",
     "output_type": "stream",
     "text": [
      "Writing recipe contents to: C:\\Users\\Antoine\\Documents\\projects\\honeybee tutorials\\recipes\\test\\gridbased\n"
     ]
    },
    {
     "data": {
      "text/plain": [
       "True"
      ]
     },
     "execution_count": 15,
     "metadata": {},
     "output_type": "execute_result"
    }
   ],
   "source": [
    "import os\n",
    "\n",
    "target_folder = os.path.join(os.getcwd(), 'recipes')\n",
    "\n",
    "command_path = recipe_1.write(target_folder, 'test')\n",
    "recipe_1.run(command_path)"
   ]
  },
  {
   "cell_type": "code",
   "execution_count": null,
   "metadata": {},
   "outputs": [],
   "source": []
  }
 ],
 "metadata": {
  "kernelspec": {
   "display_name": "Python 2",
   "language": "python",
   "name": "python2"
  },
  "language_info": {
   "codemirror_mode": {
    "name": "ipython",
    "version": 2
   },
   "file_extension": ".py",
   "mimetype": "text/x-python",
   "name": "python",
   "nbconvert_exporter": "python",
   "pygments_lexer": "ipython2",
   "version": "2.7.13"
  }
 },
 "nbformat": 4,
 "nbformat_minor": 2
}
